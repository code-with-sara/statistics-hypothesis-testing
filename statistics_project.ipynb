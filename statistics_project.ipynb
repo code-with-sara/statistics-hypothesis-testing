{
  "nbformat": 4,
  "nbformat_minor": 0,
  "metadata": {
    "colab": {
      "provenance": []
    },
    "kernelspec": {
      "name": "python3",
      "display_name": "Python 3"
    },
    "language_info": {
      "name": "python"
    }
  },
  "cells": [
    {
      "cell_type": "code",
      "execution_count": 21,
      "metadata": {
        "id": "I6Bslyh6Ywni"
      },
      "outputs": [],
      "source": [
        "import pandas as pd\n",
        "import numpy as np\n",
        "import scipy.stats as stats"
      ]
    },
    {
      "cell_type": "markdown",
      "source": [
        "# **Load Dataset**"
      ],
      "metadata": {
        "id": "KbPb7GwRhHRu"
      }
    },
    {
      "cell_type": "code",
      "source": [
        "data = pd.read_excel('/content/drive/MyDrive/Google Colab/Book1.xlsx')"
      ],
      "metadata": {
        "id": "F_3KxqKVZhgi"
      },
      "execution_count": 10,
      "outputs": []
    },
    {
      "cell_type": "code",
      "source": [
        "data.head()"
      ],
      "metadata": {
        "colab": {
          "base_uri": "https://localhost:8080/",
          "height": 206
        },
        "id": "InibfKotZ7kX",
        "outputId": "b58aae49-1577-4bb0-eb2e-1f6b0f99eaba"
      },
      "execution_count": 11,
      "outputs": [
        {
          "output_type": "execute_result",
          "data": {
            "text/plain": [
              "     Name  Blood Glucose Level  Daibetes m.member  Unnamed: 3  Unnamed: 4  \\\n",
              "0  Moazam                   76                  1         NaN         NaN   \n",
              "1     Ali                   81                  1         NaN         NaN   \n",
              "2  Hammad                   92                  0         NaN         NaN   \n",
              "3   Awais                   85                  0         NaN         NaN   \n",
              "4  Hamais                   98                  3         NaN         NaN   \n",
              "\n",
              "   Unnamed: 5  Unnamed: 6  Unnamed: 7  Unnamed: 8  Name.1  Daibetes f.member  \\\n",
              "0         NaN         NaN         NaN         NaN    aqsa                1.0   \n",
              "1         NaN         NaN         NaN         NaN   amina                0.0   \n",
              "2         NaN         NaN         NaN         NaN  ayesha                2.0   \n",
              "3         NaN         NaN         NaN         NaN    iqra                0.0   \n",
              "4         NaN         NaN         NaN         NaN   sidra                3.0   \n",
              "\n",
              "   Blood Glucose Level.1  \n",
              "0                     76  \n",
              "1                     77  \n",
              "2                     99  \n",
              "3                     81  \n",
              "4                     90  "
            ],
            "text/html": [
              "\n",
              "  <div id=\"df-34b26486-7ac1-4a75-9a17-1127c6044c88\" class=\"colab-df-container\">\n",
              "    <div>\n",
              "<style scoped>\n",
              "    .dataframe tbody tr th:only-of-type {\n",
              "        vertical-align: middle;\n",
              "    }\n",
              "\n",
              "    .dataframe tbody tr th {\n",
              "        vertical-align: top;\n",
              "    }\n",
              "\n",
              "    .dataframe thead th {\n",
              "        text-align: right;\n",
              "    }\n",
              "</style>\n",
              "<table border=\"1\" class=\"dataframe\">\n",
              "  <thead>\n",
              "    <tr style=\"text-align: right;\">\n",
              "      <th></th>\n",
              "      <th>Name</th>\n",
              "      <th>Blood Glucose Level</th>\n",
              "      <th>Daibetes m.member</th>\n",
              "      <th>Unnamed: 3</th>\n",
              "      <th>Unnamed: 4</th>\n",
              "      <th>Unnamed: 5</th>\n",
              "      <th>Unnamed: 6</th>\n",
              "      <th>Unnamed: 7</th>\n",
              "      <th>Unnamed: 8</th>\n",
              "      <th>Name.1</th>\n",
              "      <th>Daibetes f.member</th>\n",
              "      <th>Blood Glucose Level.1</th>\n",
              "    </tr>\n",
              "  </thead>\n",
              "  <tbody>\n",
              "    <tr>\n",
              "      <th>0</th>\n",
              "      <td>Moazam</td>\n",
              "      <td>76</td>\n",
              "      <td>1</td>\n",
              "      <td>NaN</td>\n",
              "      <td>NaN</td>\n",
              "      <td>NaN</td>\n",
              "      <td>NaN</td>\n",
              "      <td>NaN</td>\n",
              "      <td>NaN</td>\n",
              "      <td>aqsa</td>\n",
              "      <td>1.0</td>\n",
              "      <td>76</td>\n",
              "    </tr>\n",
              "    <tr>\n",
              "      <th>1</th>\n",
              "      <td>Ali</td>\n",
              "      <td>81</td>\n",
              "      <td>1</td>\n",
              "      <td>NaN</td>\n",
              "      <td>NaN</td>\n",
              "      <td>NaN</td>\n",
              "      <td>NaN</td>\n",
              "      <td>NaN</td>\n",
              "      <td>NaN</td>\n",
              "      <td>amina</td>\n",
              "      <td>0.0</td>\n",
              "      <td>77</td>\n",
              "    </tr>\n",
              "    <tr>\n",
              "      <th>2</th>\n",
              "      <td>Hammad</td>\n",
              "      <td>92</td>\n",
              "      <td>0</td>\n",
              "      <td>NaN</td>\n",
              "      <td>NaN</td>\n",
              "      <td>NaN</td>\n",
              "      <td>NaN</td>\n",
              "      <td>NaN</td>\n",
              "      <td>NaN</td>\n",
              "      <td>ayesha</td>\n",
              "      <td>2.0</td>\n",
              "      <td>99</td>\n",
              "    </tr>\n",
              "    <tr>\n",
              "      <th>3</th>\n",
              "      <td>Awais</td>\n",
              "      <td>85</td>\n",
              "      <td>0</td>\n",
              "      <td>NaN</td>\n",
              "      <td>NaN</td>\n",
              "      <td>NaN</td>\n",
              "      <td>NaN</td>\n",
              "      <td>NaN</td>\n",
              "      <td>NaN</td>\n",
              "      <td>iqra</td>\n",
              "      <td>0.0</td>\n",
              "      <td>81</td>\n",
              "    </tr>\n",
              "    <tr>\n",
              "      <th>4</th>\n",
              "      <td>Hamais</td>\n",
              "      <td>98</td>\n",
              "      <td>3</td>\n",
              "      <td>NaN</td>\n",
              "      <td>NaN</td>\n",
              "      <td>NaN</td>\n",
              "      <td>NaN</td>\n",
              "      <td>NaN</td>\n",
              "      <td>NaN</td>\n",
              "      <td>sidra</td>\n",
              "      <td>3.0</td>\n",
              "      <td>90</td>\n",
              "    </tr>\n",
              "  </tbody>\n",
              "</table>\n",
              "</div>\n",
              "    <div class=\"colab-df-buttons\">\n",
              "\n",
              "  <div class=\"colab-df-container\">\n",
              "    <button class=\"colab-df-convert\" onclick=\"convertToInteractive('df-34b26486-7ac1-4a75-9a17-1127c6044c88')\"\n",
              "            title=\"Convert this dataframe to an interactive table.\"\n",
              "            style=\"display:none;\">\n",
              "\n",
              "  <svg xmlns=\"http://www.w3.org/2000/svg\" height=\"24px\" viewBox=\"0 -960 960 960\">\n",
              "    <path d=\"M120-120v-720h720v720H120Zm60-500h600v-160H180v160Zm220 220h160v-160H400v160Zm0 220h160v-160H400v160ZM180-400h160v-160H180v160Zm440 0h160v-160H620v160ZM180-180h160v-160H180v160Zm440 0h160v-160H620v160Z\"/>\n",
              "  </svg>\n",
              "    </button>\n",
              "\n",
              "  <style>\n",
              "    .colab-df-container {\n",
              "      display:flex;\n",
              "      gap: 12px;\n",
              "    }\n",
              "\n",
              "    .colab-df-convert {\n",
              "      background-color: #E8F0FE;\n",
              "      border: none;\n",
              "      border-radius: 50%;\n",
              "      cursor: pointer;\n",
              "      display: none;\n",
              "      fill: #1967D2;\n",
              "      height: 32px;\n",
              "      padding: 0 0 0 0;\n",
              "      width: 32px;\n",
              "    }\n",
              "\n",
              "    .colab-df-convert:hover {\n",
              "      background-color: #E2EBFA;\n",
              "      box-shadow: 0px 1px 2px rgba(60, 64, 67, 0.3), 0px 1px 3px 1px rgba(60, 64, 67, 0.15);\n",
              "      fill: #174EA6;\n",
              "    }\n",
              "\n",
              "    .colab-df-buttons div {\n",
              "      margin-bottom: 4px;\n",
              "    }\n",
              "\n",
              "    [theme=dark] .colab-df-convert {\n",
              "      background-color: #3B4455;\n",
              "      fill: #D2E3FC;\n",
              "    }\n",
              "\n",
              "    [theme=dark] .colab-df-convert:hover {\n",
              "      background-color: #434B5C;\n",
              "      box-shadow: 0px 1px 3px 1px rgba(0, 0, 0, 0.15);\n",
              "      filter: drop-shadow(0px 1px 2px rgba(0, 0, 0, 0.3));\n",
              "      fill: #FFFFFF;\n",
              "    }\n",
              "  </style>\n",
              "\n",
              "    <script>\n",
              "      const buttonEl =\n",
              "        document.querySelector('#df-34b26486-7ac1-4a75-9a17-1127c6044c88 button.colab-df-convert');\n",
              "      buttonEl.style.display =\n",
              "        google.colab.kernel.accessAllowed ? 'block' : 'none';\n",
              "\n",
              "      async function convertToInteractive(key) {\n",
              "        const element = document.querySelector('#df-34b26486-7ac1-4a75-9a17-1127c6044c88');\n",
              "        const dataTable =\n",
              "          await google.colab.kernel.invokeFunction('convertToInteractive',\n",
              "                                                    [key], {});\n",
              "        if (!dataTable) return;\n",
              "\n",
              "        const docLinkHtml = 'Like what you see? Visit the ' +\n",
              "          '<a target=\"_blank\" href=https://colab.research.google.com/notebooks/data_table.ipynb>data table notebook</a>'\n",
              "          + ' to learn more about interactive tables.';\n",
              "        element.innerHTML = '';\n",
              "        dataTable['output_type'] = 'display_data';\n",
              "        await google.colab.output.renderOutput(dataTable, element);\n",
              "        const docLink = document.createElement('div');\n",
              "        docLink.innerHTML = docLinkHtml;\n",
              "        element.appendChild(docLink);\n",
              "      }\n",
              "    </script>\n",
              "  </div>\n",
              "\n",
              "\n",
              "<div id=\"df-ce9a297c-054b-43a3-a702-664cef7256e8\">\n",
              "  <button class=\"colab-df-quickchart\" onclick=\"quickchart('df-ce9a297c-054b-43a3-a702-664cef7256e8')\"\n",
              "            title=\"Suggest charts\"\n",
              "            style=\"display:none;\">\n",
              "\n",
              "<svg xmlns=\"http://www.w3.org/2000/svg\" height=\"24px\"viewBox=\"0 0 24 24\"\n",
              "     width=\"24px\">\n",
              "    <g>\n",
              "        <path d=\"M19 3H5c-1.1 0-2 .9-2 2v14c0 1.1.9 2 2 2h14c1.1 0 2-.9 2-2V5c0-1.1-.9-2-2-2zM9 17H7v-7h2v7zm4 0h-2V7h2v10zm4 0h-2v-4h2v4z\"/>\n",
              "    </g>\n",
              "</svg>\n",
              "  </button>\n",
              "\n",
              "<style>\n",
              "  .colab-df-quickchart {\n",
              "      --bg-color: #E8F0FE;\n",
              "      --fill-color: #1967D2;\n",
              "      --hover-bg-color: #E2EBFA;\n",
              "      --hover-fill-color: #174EA6;\n",
              "      --disabled-fill-color: #AAA;\n",
              "      --disabled-bg-color: #DDD;\n",
              "  }\n",
              "\n",
              "  [theme=dark] .colab-df-quickchart {\n",
              "      --bg-color: #3B4455;\n",
              "      --fill-color: #D2E3FC;\n",
              "      --hover-bg-color: #434B5C;\n",
              "      --hover-fill-color: #FFFFFF;\n",
              "      --disabled-bg-color: #3B4455;\n",
              "      --disabled-fill-color: #666;\n",
              "  }\n",
              "\n",
              "  .colab-df-quickchart {\n",
              "    background-color: var(--bg-color);\n",
              "    border: none;\n",
              "    border-radius: 50%;\n",
              "    cursor: pointer;\n",
              "    display: none;\n",
              "    fill: var(--fill-color);\n",
              "    height: 32px;\n",
              "    padding: 0;\n",
              "    width: 32px;\n",
              "  }\n",
              "\n",
              "  .colab-df-quickchart:hover {\n",
              "    background-color: var(--hover-bg-color);\n",
              "    box-shadow: 0 1px 2px rgba(60, 64, 67, 0.3), 0 1px 3px 1px rgba(60, 64, 67, 0.15);\n",
              "    fill: var(--button-hover-fill-color);\n",
              "  }\n",
              "\n",
              "  .colab-df-quickchart-complete:disabled,\n",
              "  .colab-df-quickchart-complete:disabled:hover {\n",
              "    background-color: var(--disabled-bg-color);\n",
              "    fill: var(--disabled-fill-color);\n",
              "    box-shadow: none;\n",
              "  }\n",
              "\n",
              "  .colab-df-spinner {\n",
              "    border: 2px solid var(--fill-color);\n",
              "    border-color: transparent;\n",
              "    border-bottom-color: var(--fill-color);\n",
              "    animation:\n",
              "      spin 1s steps(1) infinite;\n",
              "  }\n",
              "\n",
              "  @keyframes spin {\n",
              "    0% {\n",
              "      border-color: transparent;\n",
              "      border-bottom-color: var(--fill-color);\n",
              "      border-left-color: var(--fill-color);\n",
              "    }\n",
              "    20% {\n",
              "      border-color: transparent;\n",
              "      border-left-color: var(--fill-color);\n",
              "      border-top-color: var(--fill-color);\n",
              "    }\n",
              "    30% {\n",
              "      border-color: transparent;\n",
              "      border-left-color: var(--fill-color);\n",
              "      border-top-color: var(--fill-color);\n",
              "      border-right-color: var(--fill-color);\n",
              "    }\n",
              "    40% {\n",
              "      border-color: transparent;\n",
              "      border-right-color: var(--fill-color);\n",
              "      border-top-color: var(--fill-color);\n",
              "    }\n",
              "    60% {\n",
              "      border-color: transparent;\n",
              "      border-right-color: var(--fill-color);\n",
              "    }\n",
              "    80% {\n",
              "      border-color: transparent;\n",
              "      border-right-color: var(--fill-color);\n",
              "      border-bottom-color: var(--fill-color);\n",
              "    }\n",
              "    90% {\n",
              "      border-color: transparent;\n",
              "      border-bottom-color: var(--fill-color);\n",
              "    }\n",
              "  }\n",
              "</style>\n",
              "\n",
              "  <script>\n",
              "    async function quickchart(key) {\n",
              "      const quickchartButtonEl =\n",
              "        document.querySelector('#' + key + ' button');\n",
              "      quickchartButtonEl.disabled = true;  // To prevent multiple clicks.\n",
              "      quickchartButtonEl.classList.add('colab-df-spinner');\n",
              "      try {\n",
              "        const charts = await google.colab.kernel.invokeFunction(\n",
              "            'suggestCharts', [key], {});\n",
              "      } catch (error) {\n",
              "        console.error('Error during call to suggestCharts:', error);\n",
              "      }\n",
              "      quickchartButtonEl.classList.remove('colab-df-spinner');\n",
              "      quickchartButtonEl.classList.add('colab-df-quickchart-complete');\n",
              "    }\n",
              "    (() => {\n",
              "      let quickchartButtonEl =\n",
              "        document.querySelector('#df-ce9a297c-054b-43a3-a702-664cef7256e8 button');\n",
              "      quickchartButtonEl.style.display =\n",
              "        google.colab.kernel.accessAllowed ? 'block' : 'none';\n",
              "    })();\n",
              "  </script>\n",
              "</div>\n",
              "\n",
              "    </div>\n",
              "  </div>\n"
            ],
            "application/vnd.google.colaboratory.intrinsic+json": {
              "type": "dataframe",
              "variable_name": "data",
              "summary": "{\n  \"name\": \"data\",\n  \"rows\": 50,\n  \"fields\": [\n    {\n      \"column\": \"Name\",\n      \"properties\": {\n        \"dtype\": \"string\",\n        \"num_unique_values\": 38,\n        \"samples\": [\n          \"Abdullah\",\n          \"Wajahat\",\n          \"Hamais\"\n        ],\n        \"semantic_type\": \"\",\n        \"description\": \"\"\n      }\n    },\n    {\n      \"column\": \"Blood Glucose Level\",\n      \"properties\": {\n        \"dtype\": \"number\",\n        \"std\": 7,\n        \"min\": 75,\n        \"max\": 99,\n        \"num_unique_values\": 20,\n        \"samples\": [\n          76,\n          84,\n          79\n        ],\n        \"semantic_type\": \"\",\n        \"description\": \"\"\n      }\n    },\n    {\n      \"column\": \"Daibetes m.member\",\n      \"properties\": {\n        \"dtype\": \"number\",\n        \"std\": 1,\n        \"min\": 0,\n        \"max\": 3,\n        \"num_unique_values\": 4,\n        \"samples\": [\n          0,\n          2,\n          1\n        ],\n        \"semantic_type\": \"\",\n        \"description\": \"\"\n      }\n    },\n    {\n      \"column\": \"Unnamed: 3\",\n      \"properties\": {\n        \"dtype\": \"number\",\n        \"std\": null,\n        \"min\": null,\n        \"max\": null,\n        \"num_unique_values\": 0,\n        \"samples\": [],\n        \"semantic_type\": \"\",\n        \"description\": \"\"\n      }\n    },\n    {\n      \"column\": \"Unnamed: 4\",\n      \"properties\": {\n        \"dtype\": \"number\",\n        \"std\": null,\n        \"min\": null,\n        \"max\": null,\n        \"num_unique_values\": 0,\n        \"samples\": [],\n        \"semantic_type\": \"\",\n        \"description\": \"\"\n      }\n    },\n    {\n      \"column\": \"Unnamed: 5\",\n      \"properties\": {\n        \"dtype\": \"number\",\n        \"std\": null,\n        \"min\": null,\n        \"max\": null,\n        \"num_unique_values\": 0,\n        \"samples\": [],\n        \"semantic_type\": \"\",\n        \"description\": \"\"\n      }\n    },\n    {\n      \"column\": \"Unnamed: 6\",\n      \"properties\": {\n        \"dtype\": \"number\",\n        \"std\": null,\n        \"min\": null,\n        \"max\": null,\n        \"num_unique_values\": 0,\n        \"samples\": [],\n        \"semantic_type\": \"\",\n        \"description\": \"\"\n      }\n    },\n    {\n      \"column\": \"Unnamed: 7\",\n      \"properties\": {\n        \"dtype\": \"number\",\n        \"std\": null,\n        \"min\": null,\n        \"max\": null,\n        \"num_unique_values\": 0,\n        \"samples\": [],\n        \"semantic_type\": \"\",\n        \"description\": \"\"\n      }\n    },\n    {\n      \"column\": \"Unnamed: 8\",\n      \"properties\": {\n        \"dtype\": \"number\",\n        \"std\": null,\n        \"min\": null,\n        \"max\": null,\n        \"num_unique_values\": 0,\n        \"samples\": [],\n        \"semantic_type\": \"\",\n        \"description\": \"\"\n      }\n    },\n    {\n      \"column\": \"Name.1\",\n      \"properties\": {\n        \"dtype\": \"string\",\n        \"num_unique_values\": 42,\n        \"samples\": [],\n        \"semantic_type\": \"\",\n        \"description\": \"\"\n      }\n    },\n    {\n      \"column\": \"Daibetes f.member\",\n      \"properties\": {\n        \"dtype\": \"number\",\n        \"std\": 1.0034701971084132,\n        \"min\": 0.0,\n        \"max\": 3.0,\n        \"num_unique_values\": 7,\n        \"samples\": [],\n        \"semantic_type\": \"\",\n        \"description\": \"\"\n      }\n    },\n    {\n      \"column\": \"Blood Glucose Level.1\",\n      \"properties\": {\n        \"dtype\": \"number\",\n        \"std\": 7,\n        \"min\": 75,\n        \"max\": 99,\n        \"num_unique_values\": 24,\n        \"samples\": [],\n        \"semantic_type\": \"\",\n        \"description\": \"\"\n      }\n    }\n  ]\n}"
            }
          },
          "metadata": {},
          "execution_count": 11
        }
      ]
    },
    {
      "cell_type": "markdown",
      "source": [
        " **Drop Missing Values**"
      ],
      "metadata": {
        "id": "bGpY3i_8dpCR"
      }
    },
    {
      "cell_type": "code",
      "source": [
        "#drop some of missing values\n",
        "new_data = data.drop(columns=['Unnamed: 3', 'Unnamed: 4', 'Unnamed: 5', 'Unnamed: 6', 'Unnamed: 7', 'Unnamed: 8'])"
      ],
      "metadata": {
        "id": "-TTqdxC9feaG"
      },
      "execution_count": 16,
      "outputs": []
    },
    {
      "cell_type": "code",
      "source": [
        "#to check if values are dropped or not info() method is used\n",
        "new_data.info()"
      ],
      "metadata": {
        "colab": {
          "base_uri": "https://localhost:8080/"
        },
        "id": "eg7SJL3Adyiw",
        "outputId": "5b894170-6b2d-41bd-ec64-dc9e7fdd9605"
      },
      "execution_count": 32,
      "outputs": [
        {
          "output_type": "stream",
          "name": "stdout",
          "text": [
            "<class 'pandas.core.frame.DataFrame'>\n",
            "RangeIndex: 50 entries, 0 to 49\n",
            "Data columns (total 6 columns):\n",
            " #   Column                 Non-Null Count  Dtype  \n",
            "---  ------                 --------------  -----  \n",
            " 0   Name                   50 non-null     object \n",
            " 1   Blood Glucose Level    50 non-null     int64  \n",
            " 2   Daibetes m.member      50 non-null     int64  \n",
            " 3   Name.1                 50 non-null     object \n",
            " 4   Daibetes f.member      50 non-null     float64\n",
            " 5   Blood Glucose Level.1  50 non-null     int64  \n",
            "dtypes: float64(1), int64(3), object(2)\n",
            "memory usage: 2.5+ KB\n"
          ]
        }
      ]
    },
    {
      "cell_type": "markdown",
      "source": [
        "## **Standard Deviation and mean for male students for Blood Glucose Level**"
      ],
      "metadata": {
        "id": "cCvHKYt7aNuD"
      }
    },
    {
      "cell_type": "code",
      "source": [
        "std_deviation_for_males = new_data['Blood Glucose Level'].std()\n",
        "std_deviation_for_males"
      ],
      "metadata": {
        "id": "EolN_xH6aM9d",
        "colab": {
          "base_uri": "https://localhost:8080/"
        },
        "outputId": "de72ee4a-fc9c-4f5a-b043-a36726fe9795"
      },
      "execution_count": 18,
      "outputs": [
        {
          "output_type": "execute_result",
          "data": {
            "text/plain": [
              "7.380725034901133"
            ]
          },
          "metadata": {},
          "execution_count": 18
        }
      ]
    },
    {
      "cell_type": "code",
      "source": [
        "mean_val_for_m = new_data['Blood Glucose Level'].mean()\n",
        "mean_val_for_m"
      ],
      "metadata": {
        "id": "DLg_zN5jaGzh",
        "colab": {
          "base_uri": "https://localhost:8080/"
        },
        "outputId": "b43d12e7-9e5e-4eb2-d6ad-2359a249bae4"
      },
      "execution_count": 19,
      "outputs": [
        {
          "output_type": "execute_result",
          "data": {
            "text/plain": [
              "88.12"
            ]
          },
          "metadata": {},
          "execution_count": 19
        }
      ]
    },
    {
      "cell_type": "markdown",
      "source": [
        "**Hypothesis Testing for male students for Blood Gluscose Level**"
      ],
      "metadata": {
        "id": "ui_l-rFDgmhc"
      }
    },
    {
      "cell_type": "code",
      "source": [
        "\n",
        "# Number of observations\n",
        "n = new_data['Blood Glucose Level'].count()\n",
        "\n",
        "# Hypothesized population mean\n",
        "population_mean = 1.0  # Change this value as needed\n",
        "\n",
        "# Calculate the t-statistic\n",
        "t_statistic = (mean_val_for_m - population_mean) / (std_deviation_for_males / np.sqrt(n))\n",
        "\n",
        "# Calculate the degrees of freedom\n",
        "df = n - 1\n",
        "\n",
        "# Calculate the p-value\n",
        "p_value = stats.t.sf(np.abs(t_statistic), df=df) * 2  # two-tailed test\n",
        "\n",
        "# Set the significance level\n",
        "alpha = 0.05  # Common significance level\n",
        "\n",
        "# Output the results\n",
        "print(f\"Standard Deviation: {std_deviation_for_males}\")\n",
        "print(f\"Mean: {mean_val_for_m}\")\n",
        "print(f\"Number of observations: {n}\")\n",
        "print(f\"T-statistic: {t_statistic}\")\n",
        "print(f\"P-value: {p_value}\")\n",
        "\n",
        "# Determine if we reject the null hypothesis\n",
        "if p_value < alpha:\n",
        "    print(\"Reject the null hypothesis (H0). The sample mean is significantly different from the hypothesized population mean.\")\n",
        "else:\n",
        "    print(\"Fail to reject the null hypothesis (H0). The sample mean is not significantly different from the hypothesized population mean.\")\n"
      ],
      "metadata": {
        "colab": {
          "base_uri": "https://localhost:8080/"
        },
        "id": "ia8AS6gqe13n",
        "outputId": "34f6c8c2-822b-4b7d-93b7-cb82ede150f3"
      },
      "execution_count": 22,
      "outputs": [
        {
          "output_type": "stream",
          "name": "stdout",
          "text": [
            "Standard Deviation: 7.380725034901133\n",
            "Mean: 88.12\n",
            "Number of observations: 50\n",
            "T-statistic: 83.46489333455737\n",
            "P-value: 1.7283246014026812e-54\n",
            "Reject the null hypothesis (H0). The sample mean is significantly different from the hypothesized population mean.\n"
          ]
        }
      ]
    },
    {
      "cell_type": "markdown",
      "source": [
        "## **Standard Deviation and Mean for male students for Diabetes**"
      ],
      "metadata": {
        "id": "WBxbfTqRbfJY"
      }
    },
    {
      "cell_type": "code",
      "source": [
        "std_deviation_for_dbm = new_data['Daibetes m.member'].std()\n",
        "std_deviation_for_dbm"
      ],
      "metadata": {
        "colab": {
          "base_uri": "https://localhost:8080/"
        },
        "id": "UJ0eufNzbRwU",
        "outputId": "032d6cda-4a1a-4a18-8f06-d6621e0293e4"
      },
      "execution_count": 23,
      "outputs": [
        {
          "output_type": "execute_result",
          "data": {
            "text/plain": [
              "1.0303555954432548"
            ]
          },
          "metadata": {},
          "execution_count": 23
        }
      ]
    },
    {
      "cell_type": "code",
      "source": [
        "mean_val_for_dbm = new_data['Daibetes m.member'].mean()\n",
        "mean_val_for_dbm"
      ],
      "metadata": {
        "colab": {
          "base_uri": "https://localhost:8080/"
        },
        "id": "PLxWcusObuPP",
        "outputId": "690eb1a8-4d11-4ab5-c728-45910341b311"
      },
      "execution_count": 24,
      "outputs": [
        {
          "output_type": "execute_result",
          "data": {
            "text/plain": [
              "1.14"
            ]
          },
          "metadata": {},
          "execution_count": 24
        }
      ]
    },
    {
      "cell_type": "markdown",
      "source": [
        "**Hypothesis Testing for male students for Diabetes**"
      ],
      "metadata": {
        "id": "qcuA7c1Ng11f"
      }
    },
    {
      "cell_type": "code",
      "source": [
        "\n",
        "# Number of observations\n",
        "n = new_data['Blood Glucose Level'].count()\n",
        "\n",
        "# Hypothesized population mean\n",
        "population_mean = 1.0  # Change this value as needed\n",
        "\n",
        "# Calculate the t-statistic\n",
        "t_statistic = (mean_val_for_m - population_mean) / (std_deviation_for_males / np.sqrt(n))\n",
        "\n",
        "# Calculate the degrees of freedom\n",
        "df = n - 1\n",
        "\n",
        "# Calculate the p-value\n",
        "p_value = stats.t.sf(np.abs(t_statistic), df=df) * 2  # two-tailed test\n",
        "\n",
        "# Set the significance level\n",
        "alpha = 0.05  # Common significance level\n",
        "\n",
        "# Output the results\n",
        "print(f\"Standard Deviation: {std_deviation_for_males}\")\n",
        "print(f\"Mean: {mean_val_for_m}\")\n",
        "print(f\"Number of observations: {n}\")\n",
        "print(f\"T-statistic: {t_statistic}\")\n",
        "print(f\"P-value: {p_value}\")\n",
        "\n",
        "# Determine if we reject the null hypothesis\n",
        "if p_value < alpha:\n",
        "    print(\"Reject the null hypothesis (H0). The sample mean is significantly different from the hypothesized population mean.\")\n",
        "else:\n",
        "    print(\"Fail to reject the null hypothesis (H0). The sample mean is not significantly different from the hypothesized population mean.\")\n"
      ],
      "metadata": {
        "colab": {
          "base_uri": "https://localhost:8080/"
        },
        "id": "72FjFhymfQAl",
        "outputId": "524e24c4-184c-4d24-ca60-9989ddd35eb6"
      },
      "execution_count": 25,
      "outputs": [
        {
          "output_type": "stream",
          "name": "stdout",
          "text": [
            "Standard Deviation: 7.380725034901133\n",
            "Mean: 88.12\n",
            "Number of observations: 50\n",
            "T-statistic: 83.46489333455737\n",
            "P-value: 1.7283246014026812e-54\n",
            "Reject the null hypothesis (H0). The sample mean is significantly different from the hypothesized population mean.\n"
          ]
        }
      ]
    },
    {
      "cell_type": "markdown",
      "source": [
        "## **Standard Deviation and Mean for female students for blood glucose level**"
      ],
      "metadata": {
        "id": "hGv7MQ5Zb9XB"
      }
    },
    {
      "cell_type": "code",
      "source": [
        "std_deviation_for_females = new_data['Blood Glucose Level.1'].std()\n",
        "std_deviation_for_females"
      ],
      "metadata": {
        "colab": {
          "base_uri": "https://localhost:8080/"
        },
        "id": "kZxhnUCJb4gD",
        "outputId": "2813f350-f53e-42da-d4b5-ca8fd002c7a0"
      },
      "execution_count": 26,
      "outputs": [
        {
          "output_type": "execute_result",
          "data": {
            "text/plain": [
              "7.520963898276848"
            ]
          },
          "metadata": {},
          "execution_count": 26
        }
      ]
    },
    {
      "cell_type": "code",
      "source": [
        "mean_val_for_dgf = new_data['Blood Glucose Level.1'].mean()\n",
        "mean_val_for_dgf"
      ],
      "metadata": {
        "colab": {
          "base_uri": "https://localhost:8080/"
        },
        "id": "j7S6IALccR_y",
        "outputId": "a2493b7b-f6da-4477-90ec-d80fecc310f3"
      },
      "execution_count": 27,
      "outputs": [
        {
          "output_type": "execute_result",
          "data": {
            "text/plain": [
              "87.92"
            ]
          },
          "metadata": {},
          "execution_count": 27
        }
      ]
    },
    {
      "cell_type": "markdown",
      "source": [
        "**Hypothesis Testing for female students for Blood Gluscose Level**"
      ],
      "metadata": {
        "id": "sGYLIsqzg5vo"
      }
    },
    {
      "cell_type": "code",
      "source": [
        "\n",
        "\n",
        "# Calculate mean and standard deviation for 'Blood Glucose Level.1'\n",
        "mean_val_for_dgf = data['Blood Glucose Level.1'].mean()\n",
        "std_deviation_for_females = data['Blood Glucose Level.1'].std()\n",
        "\n",
        "# Number of observations\n",
        "n = new_data['Blood Glucose Level.1'].count()\n",
        "\n",
        "# Hypothesized population mean\n",
        "population_mean = 1.0  # Change this value as needed\n",
        "\n",
        "# Calculate the t-statistic\n",
        "t_statistic = (mean_val_for_dgf - population_mean) / (std_deviation_for_females / np.sqrt(n))\n",
        "\n",
        "# Calculate the degrees of freedom\n",
        "df = n - 1\n",
        "\n",
        "# Calculate the p-value\n",
        "p_value = stats.t.sf(np.abs(t_statistic), df=df) * 2  # two-tailed test\n",
        "\n",
        "# Set the significance level\n",
        "alpha = 0.05  # Common significance level\n",
        "\n",
        "# Output the results\n",
        "print(f\"Standard Deviation: {std_deviation_for_females}\")\n",
        "print(f\"Mean: {mean_val_for_dgf}\")\n",
        "print(f\"Number of observations: {n}\")\n",
        "print(f\"T-statistic: {t_statistic}\")\n",
        "print(f\"P-value: {p_value}\")\n",
        "\n",
        "# Determine if we reject the null hypothesis\n",
        "if p_value < alpha:\n",
        "    print(\"Reject the null hypothesis (H0). The sample mean is significantly different from the hypothesized population mean.\")\n",
        "else:\n",
        "    print(\"Fail to reject the null hypothesis (H0). The sample mean is not significantly different from the hypothesized population mean.\")\n"
      ],
      "metadata": {
        "colab": {
          "base_uri": "https://localhost:8080/"
        },
        "id": "-vasSworekhO",
        "outputId": "a4975f7f-c284-4f8c-e79b-12c0e6af988a"
      },
      "execution_count": 28,
      "outputs": [
        {
          "output_type": "stream",
          "name": "stdout",
          "text": [
            "Standard Deviation: 7.520963898276848\n",
            "Mean: 87.92\n",
            "Number of observations: 50\n",
            "T-statistic: 81.72053775556137\n",
            "P-value: 4.8299296190516893e-54\n",
            "Reject the null hypothesis (H0). The sample mean is significantly different from the hypothesized population mean.\n"
          ]
        }
      ]
    },
    {
      "cell_type": "markdown",
      "source": [
        "## **Standard Deviation and Mean for female students for Diabetes**"
      ],
      "metadata": {
        "id": "X5fCJkCLcmA-"
      }
    },
    {
      "cell_type": "code",
      "source": [
        "std_deviation_for_females = new_data['Daibetes f.member'].std()\n",
        "std_deviation_for_females"
      ],
      "metadata": {
        "colab": {
          "base_uri": "https://localhost:8080/"
        },
        "id": "fXzR2j5Tcfg5",
        "outputId": "8f9cd800-4280-4c06-d7ed-270645cb6ac7"
      },
      "execution_count": 29,
      "outputs": [
        {
          "output_type": "execute_result",
          "data": {
            "text/plain": [
              "1.0034701971084132"
            ]
          },
          "metadata": {},
          "execution_count": 29
        }
      ]
    },
    {
      "cell_type": "code",
      "source": [
        "mean_val_for_dbf = new_data['Daibetes f.member'].mean()\n",
        "mean_val_for_dbf"
      ],
      "metadata": {
        "colab": {
          "base_uri": "https://localhost:8080/"
        },
        "id": "oDUxC85rcz7W",
        "outputId": "c8602683-13d6-4f77-8c7c-f6b491d393b8"
      },
      "execution_count": 30,
      "outputs": [
        {
          "output_type": "execute_result",
          "data": {
            "text/plain": [
              "1.0731428571428574"
            ]
          },
          "metadata": {},
          "execution_count": 30
        }
      ]
    },
    {
      "cell_type": "markdown",
      "source": [
        "**Hypothesis Testing for female students for Diabetes**"
      ],
      "metadata": {
        "id": "P4Cx-MAvhAPQ"
      }
    },
    {
      "cell_type": "code",
      "source": [
        "\n",
        "# Number of observations\n",
        "n = new_data['Daibetes f.member'].count()\n",
        "\n",
        "# Hypothesized population mean\n",
        "population_mean = 1.0  # Change this value as needed\n",
        "\n",
        "# Calculate the t-statistic\n",
        "t_statistic = (mean_val_for_dbf - population_mean) / (std_deviation_for_females / np.sqrt(n))\n",
        "\n",
        "# Calculate the degrees of freedom\n",
        "df = n - 1\n",
        "\n",
        "# Calculate the p-value\n",
        "p_value = stats.t.sf(np.abs(t_statistic), df=df) * 2  # two-tailed test\n",
        "\n",
        "# Set the significance level\n",
        "alpha = 0.05  # Common significance level\n",
        "\n",
        "# Output the results\n",
        "print(f\"Standard Deviation: {std_deviation_for_females}\")\n",
        "print(f\"Mean: {mean_val_for_dbf}\")\n",
        "print(f\"Number of observations: {n}\")\n",
        "print(f\"T-statistic: {t_statistic}\")\n",
        "print(f\"P-value: {p_value}\")\n",
        "\n",
        "# Determine if we reject the null hypothesis\n",
        "if p_value < alpha:\n",
        "    print(\"Reject the null hypothesis (H0). The sample mean is significantly different from the hypothesized population mean.\")\n",
        "else:\n",
        "    print(\"Fail to reject the null hypothesis (H0). The sample mean is not significantly different from the hypothesized population mean.\")\n"
      ],
      "metadata": {
        "colab": {
          "base_uri": "https://localhost:8080/"
        },
        "id": "EUc1vPOnd2fY",
        "outputId": "441b81a2-5460-48c4-db57-1ba1d1404312"
      },
      "execution_count": 31,
      "outputs": [
        {
          "output_type": "stream",
          "name": "stdout",
          "text": [
            "Standard Deviation: 1.0034701971084132\n",
            "Mean: 1.0731428571428574\n",
            "Number of observations: 50\n",
            "T-statistic: 0.51540953014956\n",
            "P-value: 0.6085845311998239\n",
            "Fail to reject the null hypothesis (H0). The sample mean is not significantly different from the hypothesized population mean.\n"
          ]
        }
      ]
    },
    {
      "cell_type": "code",
      "source": [],
      "metadata": {
        "id": "DDOAaZHLeSU1"
      },
      "execution_count": null,
      "outputs": []
    }
  ]
}